{
 "cells": [
  {
   "cell_type": "code",
   "execution_count": null,
   "id": "08e7ccef",
   "metadata": {
    "collapsed": true,
    "pycharm": {
     "name": "#%%\n",
     "is_executing": true
    }
   },
   "outputs": [],
   "source": [
    "main()"
   ]
  },
  {
   "cell_type": "markdown",
   "id": "2eab4746",
   "metadata": {
    "pycharm": {
     "name": "#%% md\n"
    }
   },
   "source": [
    "**Basic Prepartion**"
   ]
  },
  {
   "cell_type": "code",
   "execution_count": 12,
   "id": "65e43fa4",
   "metadata": {
    "pycharm": {
     "name": "#%%\n"
    }
   },
   "outputs": [],
   "source": [
    "from qiskit import QuantumCircuit, QuantumRegister, Aer, transpile\n",
    "from qiskit.quantum_info.operators import Operator\n",
    "import math\n",
    "import numpy as np\n",
    "from copy import deepcopy\n",
    "from IPython.display import clear_output\n",
    "import sys\n",
    "import cv2\n",
    "from matplotlib import pyplot as plt\n",
    "from PIL import Image"
   ]
  },
  {
   "cell_type": "code",
   "execution_count": 13,
   "id": "f62c97a1",
   "metadata": {
    "pycharm": {
     "name": "#%%\n"
    }
   },
   "outputs": [],
   "source": [
    "measurables = [[0,1,2],[3,4,5],[6,7,8],[0,3,6],[1,4,7],[2,5,8],[0,4,8],[2,4,6]]\n",
    "probArray = [100, 75, 50, 25, 0]\n",
    "\n",
    "m = [\n",
    "    [[100, 100, 0],[100, 100, 0],[0, 0, -1]],\n",
    "    [[0,0,0],[0,0,0],[0,0,0]],\n",
    "    [[-1,-1,-1],[-1,-1,-1],[-1,-1,-1]],\n",
    "]\n",
    "\n",
    "A = np.array([\n",
    "    [[70, 67,77],[66,78, 6],[6,67, 11]],\n",
    "    [[-1,-1,-1],[-1,-1,-1],[-1,-1,-1]],\n",
    "    [[-1,70,71],[-1,80,82],[84,76,-1]]\n",
    "])  \n",
    "\n",
    "NeighborsOfEachPos = {\n",
    "    0: [1,2,3,6,4,8],\n",
    "    1: [0,2,4,7],\n",
    "    2: [0,1,5,8,4,6],\n",
    "    3: [0,6,4,5],\n",
    "    4: [3,5,1,7,0,8,2,6],\n",
    "    5: [3,4,2,8],\n",
    "    6: [0,3,7,8,4,2],\n",
    "    7: [1,4,6,8],\n",
    "    8: [0,4,6,7,2,5],\n",
    "}"
   ]
  },
  {
   "cell_type": "markdown",
   "id": "ff3fd70f",
   "metadata": {
    "pycharm": {
     "name": "#%% md\n"
    }
   },
   "source": [
    "**Quantum Module for simulation**"
   ]
  },
  {
   "cell_type": "code",
   "execution_count": 14,
   "id": "f1f8e894",
   "metadata": {
    "scrolled": true,
    "pycharm": {
     "name": "#%%\n"
    }
   },
   "outputs": [],
   "source": [
    "SuperMeasureIndexes = []\n",
    "SuperMeasureValue = 0\n",
    "\n",
    "def makeQuantumCircuit(m, Indexes, superMeasure):\n",
    "    qc = QuantumCircuit(9,9)\n",
    "    placeQubits(m, qc)\n",
    "    EntangleQubits(m, qc)\n",
    "    measureAll = [0,1,2,3,4,5,6,7,8]\n",
    "    qc.measure(measureAll, measureAll)\n",
    "    o = simulate(qc)\n",
    "    o = o[::-1]\n",
    "    if superMeasure:\n",
    "        return checkAllMeasures(o, Indexes)\n",
    "    else:\n",
    "        return (o[Indexes[0]] == o[Indexes[1]]) and (o[Indexes[1]] == o[Indexes[2]])\n",
    "       \n",
    "    \n",
    "def placeQubits(m, qc):\n",
    "    for i in range(0,3):\n",
    "        for j in range(0,3):\n",
    "            if m[2][i][j] == -1 and  m[0][i][j] != -1:\n",
    "                 qc.unitary(makeOperator(m[0][i][j]), [3*i + j], label = str(m[0][i][j])) \n",
    "                  \n",
    "            \n",
    "def EntangleQubits(m, qc):  \n",
    "    for i in range(0,3):\n",
    "        for j in range(0,3):\n",
    "            if m[2][i][j] >= 70 and m[2][i][j] < 80:\n",
    "                qc.barrier()\n",
    "                qc.cx(m[2][i][j] - 70, 3*i + j)\n",
    "            if m[2][i][j] >= 80 and m[2][i][j] < 90:\n",
    "                qc.barrier()\n",
    "                qc.x(3*i + j)\n",
    "                qc.cx(m[2][i][j] - 80, 3*i + j)\n",
    "            \n",
    "            \n",
    "def makeOperator(probability):\n",
    "    angle = math.acos(np.sqrt(probability/100))\n",
    "    return Operator([\n",
    "    [math.cos(angle),  math.sin(angle)],\n",
    "    [-math.sin(angle), math.cos(angle)]\n",
    "    ])\n",
    "\n",
    "def checkAllMeasures(o, index):\n",
    "    for m in measurables:\n",
    "        if((o[m[0]] == o[m[1]]) and (o[m[1]] == o[m[2]])):\n",
    "            if m[0] in index and m[1] in index and m[2] in index:\n",
    "                SuperMeasureIndexes = m\n",
    "                SuperMeasureValue = o[m[0]]\n",
    "                return True\n",
    "    return False\n",
    "\n",
    "def simulate(qc):\n",
    "    sim = Aer.get_backend('aer_simulator')\n",
    "    transpiled = transpile(qc, sim)\n",
    "    result = sim.run(transpiled, shots=1, memory = True).result()\n",
    "    o = result.get_memory()[0]\n",
    "    return o\n"
   ]
  },
  {
   "cell_type": "markdown",
   "id": "b592dc81",
   "metadata": {
    "pycharm": {
     "name": "#%% md\n"
    }
   },
   "source": [
    "**User Move**"
   ]
  },
  {
   "cell_type": "code",
   "execution_count": 15,
   "id": "6b39ddb5",
   "metadata": {
    "pycharm": {
     "name": "#%%\n"
    }
   },
   "outputs": [],
   "source": [
    "def userMove(Q):\n",
    "    print(\"\\nCurrent board:\\n\")\n",
    "    #display(Q)\n",
    "    display2(Q)\n",
    "    Repeat = True\n",
    "    while Repeat == True:\n",
    "        print(\"\\nChoose Move:\\nEnter 0 to place Qubit\\nEnter 1 to Measure\")\n",
    "        move = int(input())\n",
    "        if move == 0:\n",
    "            print(\"\\nWhere do you want to place a Qubit? Choose from 0-8:\")\n",
    "            cell = int(input())\n",
    "            if Q[0][cell//3][cell%3] == -1:\n",
    "                return provideQubitChoices(Q, cell)\n",
    "                Repeat = False\n",
    "            else:\n",
    "                print(\"\\nYou chose a Non-Empty Cell, how stupid are you?\")\n",
    "        elif move == 1:\n",
    "            print(\"\\nChoose Measure row (0-2), column(3-5), diagonal(6-7) or Super Measurement(8):\")\n",
    "            index = int(input())\n",
    "            if index == 8:\n",
    "                return Q, FindAllOccupiedIndices(Q[0][:][:])\n",
    "            else:\n",
    "                x = measurables[index]\n",
    "                if Q[0][x[0]//3][x[0]%3] != -1 and Q[0][x[1]//3][x[1]%3] != -1 and Q[0][x[2]//3][x[2]%3] != -1:\n",
    "                    Repeat = False\n",
    "                    return Q, measurables[index]\n",
    "                else:\n",
    "                    print(\"Choose occupied cells, how stupid are you?\")\n",
    "        else:\n",
    "            print(\"Wrong choice: re-enter\")\n",
    "            Repeat = True\n",
    "\n",
    "def FindAllOccupiedIndices(A):\n",
    "    m = []\n",
    "    for i in range(0,3):\n",
    "        for j in range(0,3):\n",
    "            if(A[i][j] != -1):\n",
    "                m.append(A[i][j])\n",
    "    return m\n",
    "\n",
    "            \n",
    "def provideQubitChoices(Q, cell):\n",
    "    print(\"\\nQubit Choices:\\n0. 100/0\\n1. 75/25\\n2. 50/50\\n3. 25/75\\n4. 0/100\\n5. Entangle positive\\n6. Entangle negative\")\n",
    "    choice = int(input())\n",
    "    if choice <= 4:\n",
    "        Q[0][cell//3][cell%3] = probArray[choice]\n",
    "        return Q, 0\n",
    "    else:\n",
    "        while True:\n",
    "            print(\"\\nEnter position of control Qubit (0-8)\")\n",
    "            pos = int(input())\n",
    "            if Q[0][pos//3][pos%3] == -1:\n",
    "                print(\"\\nHow stupid are you?\")\n",
    "            else:\n",
    "                Q[2][cell//3][cell%3] = (choice + 2)*10 + pos\n",
    "                if choice == 5: \n",
    "                    Q[0][cell//3][cell%3] = Q[0][pos//3][pos%3]\n",
    "                else:\n",
    "                    Q[0][cell//3][cell%3] = 100 - Q[0][pos//3][pos%3]\n",
    "                break\n",
    "        return Q, 0"
   ]
  },
  {
   "cell_type": "markdown",
   "id": "86c8e5dc",
   "metadata": {
    "pycharm": {
     "name": "#%% md\n"
    }
   },
   "source": [
    "**Display Board**"
   ]
  },
  {
   "cell_type": "code",
   "execution_count": 16,
   "id": "47f5c442",
   "metadata": {
    "pycharm": {
     "name": "#%%\n"
    }
   },
   "outputs": [],
   "source": [
    "def display2(Ar):\n",
    "    fig = plt.figure(figsize=(5, 5))\n",
    "    rows = 3\n",
    "    columns = 3    \n",
    "    \n",
    "    for imageNo in range (0,9):\n",
    "\n",
    "        if (Ar[0][imageNo//3][imageNo%3] != -1 and Ar[2][imageNo//3][imageNo%3]==-1):\n",
    "            #print(\"qubit cell\")\n",
    "            if(Ar[0][imageNo//3][imageNo%3] == 100):\n",
    "                img = Image.open(\"DisplayPresets/Up.png\")\n",
    "                plt.subplot(3,3,imageNo+1)\n",
    "                plt.imshow(img)\n",
    "                plt.axis('off')\n",
    "                plt.text(120,200, str(Ar[0][imageNo//3][imageNo%3]), color=\"white\", fontdict={\"fontsize\":15, \"fontweight\":'bold', \"ha\":\"left\", \"va\":\"baseline\"})\n",
    "            elif(Ar[0][imageNo//3][imageNo%3] == 0):\n",
    "                img = Image.open(\"DisplayPresets/Down.png\")\n",
    "                plt.subplot(3,3,imageNo+1)\n",
    "                plt.imshow(img)\n",
    "                plt.axis('off')\n",
    "                plt.text(155,180, str(Ar[0][imageNo//3][imageNo%3]), color=\"white\", fontdict={\"fontsize\":20, \"fontweight\":'bold', \"ha\":\"left\", \"va\":\"baseline\"})\n",
    "            else:\n",
    "                img = Image.open(\"DisplayPresets/Plain.png\")\n",
    "                plt.subplot(3,3,imageNo+1)\n",
    "                plt.imshow(img)\n",
    "                plt.axis('off')\n",
    "                plt.text(70,170, str(Ar[0][imageNo//3][imageNo%3]), color=\"white\", fontdict={\"fontsize\":20, \"fontweight\":'bold', \"ha\":\"left\", \"va\":\"baseline\"})\n",
    "                plt.text(185,210, str(100-Ar[0][imageNo//3][imageNo%3]), color=\"white\", fontdict={\"fontsize\":20, \"fontweight\":'bold', \"ha\":\"left\", \"va\":\"baseline\"})\n",
    "        elif (Ar[0][imageNo//3][imageNo%3] != -1 and Ar[2][imageNo//3][imageNo%3] != -1): \n",
    "            #print(\"entangled cell\")\n",
    "            img = Image.open(\"DisplayPresets/Plain2.png\")\n",
    "            plt.subplot(3,3,imageNo+1)\n",
    "            plt.imshow(img)\n",
    "            plt.axis('off')\n",
    "            if(Ar[2][imageNo//3][imageNo%3] < 79):\n",
    "                #print(\"E+\",Ar[2][i][j] - 70, end = \"\\t| \")\n",
    "                plt.text(95,185, \"E+\" + str(Ar[2][imageNo//3][imageNo%3] - 70), color=\"white\", fontdict={\"fontsize\":20, \"fontweight\":'bold', \"ha\":\"left\", \"va\":\"baseline\"}) \n",
    "            else:\n",
    "                plt.text(95,185, \"E-\" + str(Ar[2][imageNo//3][imageNo%3] - 80), color=\"white\", fontdict={\"fontsize\":20, \"fontweight\":'bold', \"ha\":\"left\", \"va\":\"baseline\"}) \n",
    "         \n",
    "        else:\n",
    "            #print(\"empty cell\")\n",
    "            img = Image.open(\"DisplayPresets/Empty.png\")\n",
    "            plt.subplot(3,3,imageNo+1)\n",
    "            plt.imshow(img)\n",
    "            plt.axis('off')\n",
    "\n",
    "    plt.subplots_adjust(left=0.1, bottom=0.1, right=0.9, top=0.9, wspace=0.1, hspace=0.1)\n",
    "    plt.show()\n",
    "    #print(Ar)\n"
   ]
  },
  {
   "cell_type": "markdown",
   "id": "d50ee8ac",
   "metadata": {
    "pycharm": {
     "name": "#%% md\n"
    }
   },
   "source": [
    "**Computer Choice and Placement**"
   ]
  },
  {
   "cell_type": "code",
   "execution_count": 17,
   "id": "c9bb6317",
   "metadata": {
    "pycharm": {
     "name": "#%%\n"
    }
   },
   "outputs": [],
   "source": [
    "def DecideMoveOrMeasure(Q):\n",
    "    prod0 = []\n",
    "    prod1 = []\n",
    "    x = 0\n",
    "    for m in measurables:\n",
    "        p0 = 1\n",
    "        p1 = 1\n",
    "        for index in m:\n",
    "            if(Q[0][index//3][index%3] == -1):\n",
    "                p0 = p0*0\n",
    "                p1 = p1*0\n",
    "            else:\n",
    "                if(Q[2][index//3][index%3] >= 80):\n",
    "                    pos = Q[2][index//3][index%3] - 80\n",
    "                    if(PositionIsInM(pos, m)):\n",
    "                        p0 = 0\n",
    "                        p1 = 0\n",
    "                    else:\n",
    "                        p0 = p0*(1-Q[0][pos//3][pos%3]/100)\n",
    "                        p1 = p1*(Q[0][pos//3][pos%3]/100)\n",
    "                elif(Q[2][index//3][index%3] >= 70):\n",
    "                    pos = Q[2][index//3][index%3] - 70\n",
    "                    if(not PositionIsInM(pos, m)):\n",
    "                        p0 = p0*Q[0][pos//3][pos%3]/100\n",
    "                        p1 = p1*(1 - Q[0][pos//3][pos%3]/100)\n",
    "                else:\n",
    "                    p0 = p0*Q[0][index//3][index%3]/100\n",
    "                    p1 = p1*(1-Q[0][index//3][index%3]/100)\n",
    "        prod0.append(p0)\n",
    "        prod1.append(p1)\n",
    "        x = x+1\n",
    "    max0 = max(prod0)\n",
    "    max1 = max(prod1)\n",
    "    if not checkEmptySpace(Q):\n",
    "        if max0 > max1:\n",
    "            return Q, measurables[prod0.index(max0)]\n",
    "        else:\n",
    "            return Q, measurables[prod1.index(max1)]\n",
    "    if(max0 > 0.5 or max1 > 0.5):\n",
    "        if(max0 > max1):\n",
    "            index = prod0.index(max0)\n",
    "            return Q, measurables[index]\n",
    "        else:\n",
    "            index = prod1.index(max1)\n",
    "            return Q, measurables[index]\n",
    "    else:\n",
    "        return (DecideMoveSquare(Q))\n",
    "                \n",
    "def DecideMoveSquare(Q):\n",
    "    N = deepcopy(Q)\n",
    "    pos = []\n",
    "    zeroRatio = []\n",
    "    score = []\n",
    "    for p in range(0,9):\n",
    "        if N[0][p//3][p%3] == -1:\n",
    "            pos.append(p)\n",
    "            z = math.floor(computerMove(Q, p)*100)\n",
    "            zeroRatio.append(z)\n",
    "            N[0][p//3][p%3] = z\n",
    "            score.append(FindScore(N))\n",
    "            N[0][p//3][p%3] = Q[0][p//3][p%3]\n",
    "    maximum = max(score)    \n",
    "    index = score.index(maximum)\n",
    "    p = pos[index]\n",
    "    Q[0][p//3][p%3] = 10*round(zeroRatio[index]/10)\n",
    "    return Q, 0\n",
    "    \n",
    "def FindScore(Q):\n",
    "    score = 0\n",
    "    for m in measurables:\n",
    "        i, j, k = m[0], m[1], m[2]\n",
    "        a, b, c = Q[0][i//3][i%3]/100, Q[0][j//3][j%3]/100, Q[0][k//3][k%3]/100\n",
    "        if(not(a < 0 or b < 0 or c < 0)):\n",
    "            score = score + a*b*c + (1-a)*(1-b)*(1-c)\n",
    "    return 8 - score   \n",
    "    \n",
    "def PositionIsInM(pos, M):\n",
    "    for m in M:\n",
    "        if(pos == m): \n",
    "            return True\n",
    "    return False\n",
    "\n",
    "def checkEmptySpace(Q):\n",
    "    for i in range(0,9):\n",
    "        if Q[0][i//3][i%3] == -1:\n",
    "            return True\n",
    "    return False"
   ]
  },
  {
   "cell_type": "markdown",
   "id": "dad9df13",
   "metadata": {
    "pycharm": {
     "name": "#%% md\n"
    }
   },
   "source": [
    "**Computer Evaluation Hueristics**"
   ]
  },
  {
   "cell_type": "code",
   "execution_count": 18,
   "id": "89afceb6",
   "metadata": {
    "pycharm": {
     "name": "#%%\n"
    }
   },
   "outputs": [],
   "source": [
    "def computerMove(Q, pos):\n",
    "    neighbours = NeighborsOfEachPos[pos]\n",
    "    zeroes = 0\n",
    "    ones = 0\n",
    "    for i in range(0, len(neighbours), 2):\n",
    "        c0, c1 = QMoveMaker(Q, neighbours[i], neighbours[i+1])\n",
    "        zeroes = zeroes + c0\n",
    "        ones = ones + c1\n",
    "    return zeroes/(zeroes + ones)\n",
    "        \n",
    "def QMoveMaker(Q, p1, p2):\n",
    "    qc = QuantumCircuit(3,1)\n",
    "    #print(\"Inside QMoveMaker\",Q)\n",
    "    if(Q[0][p1//3][p1%3] != -1 and Q[0][p2//3][p2%3] != -1):\n",
    "        #print(\"making operators using:\",Q[0][p1//3][p1%3],Q[0][p1//3][p1%3])\n",
    "        qc.unitary(makeOperator(Q[0][p1//3][p1%3]), 0, label = str(Q[0][p1//3][p1%3]))\n",
    "        qc.unitary(makeOperator(Q[0][p2//3][p2%3]), 1, label = str(Q[0][p2//3][p2%3]))\n",
    "        qc.x(2)\n",
    "        qc.cx(0,2)\n",
    "        qc.cx(1,2)\n",
    "    elif Q[0][p1//3][p1%3] != -1:\n",
    "        qc.unitary(makeOperator(Q[0][p1//3][p1%3]), 0, label = str(Q[0][p1//3][p1%3]))\n",
    "        qc.cx(0,2)\n",
    "    elif Q[0][p2//3][p2%3] != -1:\n",
    "        qc.unitary(makeOperator(Q[0][p2//3][p2%3]), 1, label = str(Q[0][p2//3][p2%3]))\n",
    "        qc.cx(1,2)\n",
    "    qc.measure([2],[0])\n",
    "    #print(\"Inside QMove:\", qc)\n",
    "    #print(\"Using positions\", p1, p2)\n",
    "    sim = Aer.get_backend('aer_simulator')\n",
    "    transpiled = transpile(qc, sim)\n",
    "    result = sim.run(transpiled, shots=100, memory = True).result()\n",
    "    c = result.get_counts()\n",
    "    if '0' in c.keys():\n",
    "        zero = c['0']\n",
    "    else:\n",
    "        zero = 0\n",
    "    if '1' in c.keys():\n",
    "        one = c['1']\n",
    "    else:\n",
    "        one = 0\n",
    "    return zero, one"
   ]
  },
  {
   "cell_type": "markdown",
   "id": "2133f582",
   "metadata": {
    "pycharm": {
     "name": "#%% md\n"
    }
   },
   "source": [
    "**Removing Entanglements**"
   ]
  },
  {
   "cell_type": "code",
   "execution_count": 19,
   "id": "3e93f222",
   "metadata": {
    "pycharm": {
     "name": "#%%\n"
    }
   },
   "outputs": [],
   "source": [
    "def removeEntangles(A, MeasureAlong):\n",
    "    for m in MeasureAlong:\n",
    "        for i in range(0,3):\n",
    "            for j in range(0,3):\n",
    "                if(A[2][i][j] == (70 + m) or A[2][i][j] == (80 + m)):\n",
    "                    A[0][i][j] = -1\n",
    "                    A[2][i][j] = -1\n",
    "            "
   ]
  },
  {
   "cell_type": "markdown",
   "id": "e6d5f323",
   "metadata": {
    "pycharm": {
     "name": "#%% md\n"
    }
   },
   "source": [
    "**Main Function**"
   ]
  },
  {
   "cell_type": "code",
   "execution_count": 20,
   "id": "0f8a21f8",
   "metadata": {
    "pycharm": {
     "name": "#%%\n"
    }
   },
   "outputs": [],
   "source": [
    "def main():\n",
    "    A = np.array([\n",
    "        [[-1,-1,-1],[-1,-1,-1],[-1,-1,-1]],\n",
    "        [[-1,-1,-1],[-1,-1,-1],[-1,-1,-1]],\n",
    "        [[-1,-1,-1],[-1,-1,-1],[-1,-1,-1]]\n",
    "    ])\n",
    "    NumMeasurePlayer = 0\n",
    "    NumMeasureComputer = 0\n",
    "    GameOver = False\n",
    "    \n",
    "    try:\n",
    "        while not GameOver:\n",
    "            print(\"Your turn\")\n",
    "            A, MeasureAlong = userMove(A)\n",
    "            if MeasureAlong != 0:\n",
    "                NumMeasurePlayer = NumMeasurePlayer + 1\n",
    "                Super = len(MeasureAlong) > 3\n",
    "                #print(\"MeasureAlong for user is: \", MeasureAlong)\n",
    "                #print(\"A for user is:\",A)\n",
    "                GameOver = makeQuantumCircuit(A, MeasureAlong, Super)\n",
    "                if Super:\n",
    "                    if GameOver:\n",
    "                        print(\"\\nSuper Measure successful. You measured: \",SuperMeasureValue, \"at indices: \",SuperMeasureIndexes)\n",
    "                    else:\n",
    "                        print(\"\\nSuper measured failed. You Lose!\")\n",
    "                    sys.exit(0)\n",
    "                else:\n",
    "                    if GameOver:\n",
    "                        print(\"\\nYou measured correctly! You win!\")\n",
    "                        sys.exit(0)\n",
    "                    elif NumMeasurePlayer >= 5:\n",
    "                        print(\"\\nYou have exhausted all your measurement moves! You lose!\")\n",
    "                        sys.exit(0)\n",
    "                    else:\n",
    "                        print(\"\\nOops. Measurement failed. No worries, keep playing. You have \",(5 - NumMeasurePlayer), \" Measurement moves left!\")\n",
    "                        A[0][MeasureAlong[0]//3][MeasureAlong[0]%3] = -1\n",
    "                        A[0][MeasureAlong[1]//3][MeasureAlong[1]%3] = -1\n",
    "                        A[0][MeasureAlong[2]//3][MeasureAlong[2]%3] = -1\n",
    "                        A[2][MeasureAlong[0]//3][MeasureAlong[0]%3] = -1\n",
    "                        A[2][MeasureAlong[1]//3][MeasureAlong[1]%3] = -1\n",
    "                        A[2][MeasureAlong[2]//3][MeasureAlong[2]%3] = -1\n",
    "                        removeEntangles(A, MeasureAlong)\n",
    "            clear_output(wait = True)\n",
    "            print(\"Computer's turn\\n...\\n\")\n",
    "            A, MeasureAlong = DecideMoveOrMeasure(A)\n",
    "            if MeasureAlong != 0:\n",
    "                NumMeasureComputer = NumMeasureComputer + 1\n",
    "                GameOver = makeQuantumCircuit(A, MeasureAlong, False)\n",
    "                if GameOver:\n",
    "                    print(\"\\nThe Computer choose to measure along\", MeasureAlong, \" and won. You lose!\")\n",
    "                    sys.exit(0)\n",
    "                elif NumMeasureComputer >= 5:\n",
    "                    print(\"The Computer exhuasted all its Measurement moves. You Win!\")\n",
    "                    sys.exit(0)\n",
    "                else:\n",
    "                    print(\"\\nThe Computer choose to measure along\", MeasureAlong, \" but failed! You're lucky\")\n",
    "                    A[0][MeasureAlong[0]//3][MeasureAlong[0]%3] = -1\n",
    "                    A[0][MeasureAlong[1]//3][MeasureAlong[1]%3] = -1\n",
    "                    A[0][MeasureAlong[2]//3][MeasureAlong[2]%3] = -1\n",
    "                    A[2][MeasureAlong[0]//3][MeasureAlong[0]%3] = -1\n",
    "                    A[2][MeasureAlong[1]//3][MeasureAlong[1]%3] = -1\n",
    "                    A[2][MeasureAlong[2]//3][MeasureAlong[2]%3] = -1\n",
    "                    removeEntangles(A, MeasureAlong)\n",
    "            else:\n",
    "                print(\"Computer placed a Qubit\\n...\\n\")\n",
    "    \n",
    "    except SystemExit:\n",
    "        print(\"\\n...\\n\\nGAME OVER\\n\\n...\\n\\nRerun the main code cell to play again!\")\n"
   ]
  },
  {
   "cell_type": "code",
   "execution_count": 20,
   "outputs": [],
   "source": [],
   "metadata": {
    "collapsed": false,
    "pycharm": {
     "name": "#%%\n"
    }
   }
  },
  {
   "cell_type": "code",
   "execution_count": 10,
   "outputs": [],
   "source": [
    "|"
   ],
   "metadata": {
    "collapsed": false,
    "pycharm": {
     "name": "#%%\n"
    }
   }
  }
 ],
 "metadata": {
  "kernelspec": {
   "display_name": "Python 3 (ipykernel)",
   "language": "python",
   "name": "python3"
  },
  "language_info": {
   "codemirror_mode": {
    "name": "ipython",
    "version": 3
   },
   "file_extension": ".py",
   "mimetype": "text/x-python",
   "name": "python",
   "nbconvert_exporter": "python",
   "pygments_lexer": "ipython3",
   "version": "3.9.7"
  }
 },
 "nbformat": 4,
 "nbformat_minor": 5
}